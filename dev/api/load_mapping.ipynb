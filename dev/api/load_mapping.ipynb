{
 "cells": [
  {
   "cell_type": "code",
   "execution_count": 1,
   "id": "17419da6-9772-4b26-bd78-d58d5cadafa9",
   "metadata": {},
   "outputs": [],
   "source": [
    "import yaml"
   ]
  },
  {
   "cell_type": "code",
   "execution_count": 11,
   "id": "1e9bd871-60f4-4b5f-bc68-cd6023d3797d",
   "metadata": {},
   "outputs": [],
   "source": [
    "with open('./WebID_mapping.yml','r') as f:\n",
    "    mapping = yaml.safe_load(f)"
   ]
  },
  {
   "cell_type": "code",
   "execution_count": 19,
   "id": "3916ff35-c102-4e05-8fd0-13b5f1ebe170",
   "metadata": {},
   "outputs": [
    {
     "data": {
      "text/plain": [
       "dict_keys(['ACTUAL_DRUCK_DUESENWAND_LANZE_1', 'ACTUAL_DRUCK_DUESENWAND_LANZE_10', 'ACTUAL_DRUCK_DUESENWAND_LANZE_2', 'ACTUAL_DRUCK_DUESENWAND_LANZE_3', 'ACTUAL_DRUCK_DUESENWAND_LANZE_4', 'ACTUAL_DRUCK_DUESENWAND_LANZE_5', 'ACTUAL_DRUCK_DUESENWAND_LANZE_6', 'ACTUAL_DRUCK_DUESENWAND_LANZE_7', 'ACTUAL_DRUCK_DUESENWAND_LANZE_8', 'ACTUAL_DRUCK_DUESENWAND_LANZE_9', 'ACTUAL_O2_CELOX', 'ACTUAL_S02_KAMIN_100', 'ACTUAL_SO2_KESSEL_7', 'ACTUAL_TEMP_CELOX', 'ACTUAL_TEMP_DECKE_1', 'ACTUAL_TEMP_DECKE_2', 'ACTUAL_TEMP_DECKE_3', 'ACTUAL_TEMP_DECKE_4', 'ACTUAL_TEMP_DECKE_5', 'ACTUAL_TEMP_DECKE_6', 'ACTUAL_TEMP_LECKAGE_RLA', 'ACTUAL_TEMP_LECKAGE_RLB'])"
      ]
     },
     "execution_count": 19,
     "metadata": {},
     "output_type": "execute_result"
    }
   ],
   "source": [
    "mapping.keys()"
   ]
  },
  {
   "cell_type": "code",
   "execution_count": 22,
   "id": "50994a65-6a23-4a04-adb9-0049ee719e73",
   "metadata": {},
   "outputs": [
    {
     "data": {
      "text/plain": [
       "'F1AbEFdD4Wibe7USdVhXAbVfEOgzeySUjld7hGDXEwdloWrIwAijkDTKOIkm6zrqB0X_8ZQUElBRkNMU1xBVVIgTFVFXEFGX1NUUlVLVFVSX0VGRVNPX0FEVklTT1JcTFUtMDkwIEFOT0RFTkjDnFRURVxBTy1BRFZJU09SfEFDVFVBTF9TMDJfS0FNSU5fMTAw'"
      ]
     },
     "execution_count": 22,
     "metadata": {},
     "output_type": "execute_result"
    }
   ],
   "source": [
    "mapping.get('ACTUAL_S02_KAMIN_100').get('WebId')"
   ]
  },
  {
   "cell_type": "code",
   "execution_count": null,
   "id": "781b4533-da6b-4e98-829b-337fee2b7afa",
   "metadata": {},
   "outputs": [],
   "source": []
  }
 ],
 "metadata": {
  "kernelspec": {
   "display_name": "Python 3 (ipykernel)",
   "language": "python",
   "name": "python3"
  },
  "language_info": {
   "codemirror_mode": {
    "name": "ipython",
    "version": 3
   },
   "file_extension": ".py",
   "mimetype": "text/x-python",
   "name": "python",
   "nbconvert_exporter": "python",
   "pygments_lexer": "ipython3",
   "version": "3.10.11"
  }
 },
 "nbformat": 4,
 "nbformat_minor": 5
}
