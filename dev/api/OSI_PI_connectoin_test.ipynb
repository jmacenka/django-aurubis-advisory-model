{
 "cells": [
  {
   "cell_type": "markdown",
   "id": "2c0e131e-63e6-4e88-9c98-6d5b6d7a840e",
   "metadata": {},
   "source": [
    "# Install dependencies"
   ]
  },
  {
   "cell_type": "raw",
   "id": "52858d1f-1b91-4a86-b22a-ba519c16d4e9",
   "metadata": {},
   "source": [
    "!pip install python-dotenv pytz pyyaml"
   ]
  },
  {
   "cell_type": "markdown",
   "id": "af07e9c5-490c-438f-8ce6-e4464d932d39",
   "metadata": {},
   "source": [
    "# Import Libraries"
   ]
  },
  {
   "cell_type": "code",
   "execution_count": 1,
   "id": "a7c18288-7785-4fd1-938b-39dec89ed966",
   "metadata": {},
   "outputs": [],
   "source": [
    "# Environment variable handling\n",
    "import os\n",
    "import yaml\n",
    "from dotenv import load_dotenv\n",
    "from pprint import pprint\n",
    "import pandas as pd\n",
    "\n",
    "# For class\n",
    "import requests\n",
    "import numpy as np\n",
    "from requests.auth import HTTPBasicAuth\n",
    "from datetime import datetime, timezone, timedelta\n",
    "from urllib.parse import urlparse\n",
    "import pytz\n",
    "\n",
    "from WebID_mapping import WEBID_MAPPING"
   ]
  },
  {
   "cell_type": "markdown",
   "id": "a5d905ef-8363-429f-ad6e-439134e7af82",
   "metadata": {},
   "source": [
    "# Static parameters"
   ]
  },
  {
   "cell_type": "code",
   "execution_count": 2,
   "id": "230b1711-b68f-4185-ab07-fe0c63e95332",
   "metadata": {},
   "outputs": [],
   "source": [
    "DST_DOT_ENV_FILE = './.env'\n",
    "TIMEZONE = 'Europe/Berlin'\n",
    "CHARGE_START_HOUR = 6"
   ]
  },
  {
   "cell_type": "markdown",
   "id": "06ab0ffa-8a86-44ef-a1ee-ce448eb32bf8",
   "metadata": {},
   "source": [
    "# Load environment Parameters"
   ]
  },
  {
   "cell_type": "code",
   "execution_count": 3,
   "id": "2ac602bb-755d-4722-b9c1-aa533ce97e5d",
   "metadata": {},
   "outputs": [],
   "source": [
    "load_dotenv()\n",
    "OSI_PI_BASE_URL = os.environ.get('OSI_PI_BASE_URL')\n",
    "OSI_PI_USERNAME = os.environ.get('OSI_PI_USERNAME')\n",
    "OSI_PI_PASSWORD = os.environ.get('OSI_PI_PASSWORD')\n",
    "OSI_PI_WEBID_MAPPING = {\n",
    "    \"ACTUAL_DRUCK_DUESENWAND_LANZE_1\" : \"F1AbEFdD4Wibe7USdVhXAbVfEOgzeySUjld7hGDXEwdloWrIwQPOiVRhh30aTjtLVjXTS0wUElBRkNMU1xBVVIgTFVFXEFGX1NUUlVLVFVSX0VGRVNPX0FEVklTT1JcTFUtMDkwIEFOT0RFTkjDnFRURVxBTy1BRFZJU09SfEFDVFVBTF9EUlVDS19EVUVTRU5XQU5EX0xBTlpFXzE\",\n",
    "    \"ACTUAL_DRUCK_DUESENWAND_LANZE_2\" : \"F1AbEFdD4Wibe7USdVhXAbVfEOgzeySUjld7hGDXEwdloWrIwl0J_sWSu8kukBbE3kqL1vwUElBRkNMU1xBVVIgTFVFXEFGX1NUUlVLVFVSX0VGRVNPX0FEVklTT1JcTFUtMDkwIEFOT0RFTkjDnFRURVxBTy1BRFZJU09SfEFDVFVBTF9EUlVDS19EVUVTRU5XQU5EX0xBTlpFXzI\",\n",
    "    \"ACTUAL_DRUCK_DUESENWAND_LANZE_3\" : \"F1AbEFdD4Wibe7USdVhXAbVfEOgzeySUjld7hGDXEwdloWrIwazz1nrFi20S2KGygwaoXawUElBRkNMU1xBVVIgTFVFXEFGX1NUUlVLVFVSX0VGRVNPX0FEVklTT1JcTFUtMDkwIEFOT0RFTkjDnFRURVxBTy1BRFZJU09SfEFDVFVBTF9EUlVDS19EVUVTRU5XQU5EX0xBTlpFXzM\",\n",
    "    \"ACTUAL_DRUCK_DUESENWAND_LANZE_4\" : \"F1AbEFdD4Wibe7USdVhXAbVfEOgzeySUjld7hGDXEwdloWrIwkqrjPdijB0uRsJAYEQmFvwUElBRkNMU1xBVVIgTFVFXEFGX1NUUlVLVFVSX0VGRVNPX0FEVklTT1JcTFUtMDkwIEFOT0RFTkjDnFRURVxBTy1BRFZJU09SfEFDVFVBTF9EUlVDS19EVUVTRU5XQU5EX0xBTlpFXzQ\",\n",
    "    \"ACTUAL_DRUCK_DUESENWAND_LANZE_5\" : \"F1AbEFdD4Wibe7USdVhXAbVfEOgzeySUjld7hGDXEwdloWrIwRYVI0n4IiES79ukW4HfitAUElBRkNMU1xBVVIgTFVFXEFGX1NUUlVLVFVSX0VGRVNPX0FEVklTT1JcTFUtMDkwIEFOT0RFTkjDnFRURVxBTy1BRFZJU09SfEFDVFVBTF9EUlVDS19EVUVTRU5XQU5EX0xBTlpFXzU\",\n",
    "    \"ACTUAL_DRUCK_DUESENWAND_LANZE_6\" : \"F1AbEFdD4Wibe7USdVhXAbVfEOgzeySUjld7hGDXEwdloWrIwqeZODiJuiUicm61G8eHzBgUElBRkNMU1xBVVIgTFVFXEFGX1NUUlVLVFVSX0VGRVNPX0FEVklTT1JcTFUtMDkwIEFOT0RFTkjDnFRURVxBTy1BRFZJU09SfEFDVFVBTF9EUlVDS19EVUVTRU5XQU5EX0xBTlpFXzY\",\n",
    "    \"ACTUAL_DRUCK_DUESENWAND_LANZE_7\" : \"F1AbEFdD4Wibe7USdVhXAbVfEOgzeySUjld7hGDXEwdloWrIweHwFJsmoUUKCrHLRMahMvAUElBRkNMU1xBVVIgTFVFXEFGX1NUUlVLVFVSX0VGRVNPX0FEVklTT1JcTFUtMDkwIEFOT0RFTkjDnFRURVxBTy1BRFZJU09SfEFDVFVBTF9EUlVDS19EVUVTRU5XQU5EX0xBTlpFXzc\",\n",
    "    \"ACTUAL_DRUCK_DUESENWAND_LANZE_8\" : \"F1AbEFdD4Wibe7USdVhXAbVfEOgzeySUjld7hGDXEwdloWrIwangCTfv6wkeoQmtsCKYv0AUElBRkNMU1xBVVIgTFVFXEFGX1NUUlVLVFVSX0VGRVNPX0FEVklTT1JcTFUtMDkwIEFOT0RFTkjDnFRURVxBTy1BRFZJU09SfEFDVFVBTF9EUlVDS19EVUVTRU5XQU5EX0xBTlpFXzg\",\n",
    "    \"ACTUAL_DRUCK_DUESENWAND_LANZE_9\" : \"F1AbEFdD4Wibe7USdVhXAbVfEOgzeySUjld7hGDXEwdloWrIwD9vou8iklE-cuUeP2qHiuwUElBRkNMU1xBVVIgTFVFXEFGX1NUUlVLVFVSX0VGRVNPX0FEVklTT1JcTFUtMDkwIEFOT0RFTkjDnFRURVxBTy1BRFZJU09SfEFDVFVBTF9EUlVDS19EVUVTRU5XQU5EX0xBTlpFXzk\",\n",
    "    \"ACTUAL_DRUCK_DUESENWAND_LANZE_10\" : \"F1AbEFdD4Wibe7USdVhXAbVfEOgzeySUjld7hGDXEwdloWrIwV0s6Lhx1S0-vaGIGPx7QegUElBRkNMU1xBVVIgTFVFXEFGX1NUUlVLVFVSX0VGRVNPX0FEVklTT1JcTFUtMDkwIEFOT0RFTkjDnFRURVxBTy1BRFZJU09SfEFDVFVBTF9EUlVDS19EVUVTRU5XQU5EX0xBTlpFXzEw\",\n",
    "    \"ACTUAL_TEMP_DECKE_1\" : \"F1AbEFdD4Wibe7USdVhXAbVfEOgzeySUjld7hGDXEwdloWrIwP0WpGWUwGkOJU5jF2lndRwUElBRkNMU1xBVVIgTFVFXEFGX1NUUlVLVFVSX0VGRVNPX0FEVklTT1JcTFUtMDkwIEFOT0RFTkjDnFRURVxBTy1BRFZJU09SfEFDVFVBTF9URU1QX0RFQ0tFXzE\",\n",
    "    \"ACTUAL_TEMP_DECKE_2\" : \"F1AbEFdD4Wibe7USdVhXAbVfEOgzeySUjld7hGDXEwdloWrIw9B5-5LGsk02YxSRpJI-SpgUElBRkNMU1xBVVIgTFVFXEFGX1NUUlVLVFVSX0VGRVNPX0FEVklTT1JcTFUtMDkwIEFOT0RFTkjDnFRURVxBTy1BRFZJU09SfEFDVFVBTF9URU1QX0RFQ0tFXzI\",\n",
    "    \"ACTUAL_TEMP_DECKE_3\" : \"F1AbEFdD4Wibe7USdVhXAbVfEOgzeySUjld7hGDXEwdloWrIwg-QduNglt0CshyM6OBwVNgUElBRkNMU1xBVVIgTFVFXEFGX1NUUlVLVFVSX0VGRVNPX0FEVklTT1JcTFUtMDkwIEFOT0RFTkjDnFRURVxBTy1BRFZJU09SfEFDVFVBTF9URU1QX0RFQ0tFXzM\",\n",
    "    \"ACTUAL_TEMP_DECKE_4\" : \"F1AbEFdD4Wibe7USdVhXAbVfEOgzeySUjld7hGDXEwdloWrIwX_T2IBMmT0OMp-c1nJL3ZgUElBRkNMU1xBVVIgTFVFXEFGX1NUUlVLVFVSX0VGRVNPX0FEVklTT1JcTFUtMDkwIEFOT0RFTkjDnFRURVxBTy1BRFZJU09SfEFDVFVBTF9URU1QX0RFQ0tFXzQ\",\n",
    "    \"ACTUAL_TEMP_DECKE_5\" : \"F1AbEFdD4Wibe7USdVhXAbVfEOgzeySUjld7hGDXEwdloWrIwT5BrhA6xXkiPNIUQmaDyaAUElBRkNMU1xBVVIgTFVFXEFGX1NUUlVLVFVSX0VGRVNPX0FEVklTT1JcTFUtMDkwIEFOT0RFTkjDnFRURVxBTy1BRFZJU09SfEFDVFVBTF9URU1QX0RFQ0tFXzU\",\n",
    "    \"ACTUAL_TEMP_DECKE_6\" : \"F1AbEFdD4Wibe7USdVhXAbVfEOgzeySUjld7hGDXEwdloWrIw_75KN1i8uUusatimBt_tKwUElBRkNMU1xBVVIgTFVFXEFGX1NUUlVLVFVSX0VGRVNPX0FEVklTT1JcTFUtMDkwIEFOT0RFTkjDnFRURVxBTy1BRFZJU09SfEFDVFVBTF9URU1QX0RFQ0tFXzY\",\n",
    "    \"ACTUAL_O2_CELOX\" : \"F1AbEFdD4Wibe7USdVhXAbVfEOgzeySUjld7hGDXEwdloWrIw_3HD_UOyg0-9YKIfdAz4bwUElBRkNMU1xBVVIgTFVFXEFGX1NUUlVLVFVSX0VGRVNPX0FEVklTT1JcTFUtMDkwIEFOT0RFTkjDnFRURVxBTy1BRFZJU09SfEFDVFVBTF9PMl9DRUxPWA\",\n",
    "    \"ACTUAL_TEMP_CELOX\" : \"F1AbEFdD4Wibe7USdVhXAbVfEOgzeySUjld7hGDXEwdloWrIwGlZ45ljIwEurz9GCo74WiQUElBRkNMU1xBVVIgTFVFXEFGX1NUUlVLVFVSX0VGRVNPX0FEVklTT1JcTFUtMDkwIEFOT0RFTkjDnFRURVxBTy1BRFZJU09SfEFDVFVBTF9URU1QX0NFTE9Y\",\n",
    "    \"ACTUAL_S02_KAMIN_100\" : \"F1AbEFdD4Wibe7USdVhXAbVfEOgzeySUjld7hGDXEwdloWrIwAijkDTKOIkm6zrqB0X_8ZQUElBRkNMU1xBVVIgTFVFXEFGX1NUUlVLVFVSX0VGRVNPX0FEVklTT1JcTFUtMDkwIEFOT0RFTkjDnFRURVxBTy1BRFZJU09SfEFDVFVBTF9TMDJfS0FNSU5fMTAw\",\n",
    "    \"ACTUAL_SO2_KESSEL_7\" : \"F1AbEFdD4Wibe7USdVhXAbVfEOgzeySUjld7hGDXEwdloWrIwvgZn1B7uEk2lUMI3NFoCkwUElBRkNMU1xBVVIgTFVFXEFGX1NUUlVLVFVSX0VGRVNPX0FEVklTT1JcTFUtMDkwIEFOT0RFTkjDnFRURVxBTy1BRFZJU09SfEFDVFVBTF9TTzJfS0VTU0VMXzc\",\n",
    "    \"ACTUAL_TEMP_LECKAGE_RLA\" : \"F1AbEFdD4Wibe7USdVhXAbVfEOgzeySUjld7hGDXEwdloWrIwlD7J2zmpcUiaicRyAsfm7AUElBRkNMU1xBVVIgTFVFXEFGX1NUUlVLVFVSX0VGRVNPX0FEVklTT1JcTFUtMDkwIEFOT0RFTkjDnFRURVxBTy1BRFZJU09SfEFDVFVBTF9URU1QX0xFQ0tBR0VfUkxB\",\n",
    "    \"ACTUAL_TEMP_LECKAGE_RLB\" : \"F1AbEFdD4Wibe7USdVhXAbVfEOgzeySUjld7hGDXEwdloWrIwbM1BkedgnECBWjueD1MuOgUElBRkNMU1xBVVIgTFVFXEFGX1NUUlVLVFVSX0VGRVNPX0FEVklTT1JcTFUtMDkwIEFOT0RFTkjDnFRURVxBTy1BRFZJU09SfEFDVFVBTF9URU1QX0xFQ0tBR0VfUkxC\",\n",
    "}\n",
    "OSI_PI_PARAMETERS_REQUESTED = [key for key in OSI_PI_WEBID_MAPPING.keys()]\n",
    "CACHE_STORAGE_DURATION_HOURS = 24*3"
   ]
  },
  {
   "cell_type": "markdown",
   "id": "6c61b79d-21c1-46d8-b9cb-9a4fb4b17d3d",
   "metadata": {},
   "source": [
    "# Class deffinition"
   ]
  },
  {
   "cell_type": "code",
   "execution_count": 4,
   "id": "e0c83c82-b2e2-4f0d-912d-1bc17b52649b",
   "metadata": {},
   "outputs": [],
   "source": [
    "class OSIPIConnector:\n",
    "    def __init__(self, base_url: str, username: str, password: str, timezone: str = TIMEZONE, request_timeout_seconds: int = 120):\n",
    "        if not base_url:\n",
    "            raise ValueError(\"Missing required argument: base_url\")\n",
    "        if not username:\n",
    "            raise ValueError(\"Missing required argument: username\")\n",
    "        if not password:\n",
    "            raise ValueError(\"Missing required argument: password\")\n",
    "\n",
    "        # Check that base_url has no leading and trailing slash\n",
    "        if base_url.endswith('/'):\n",
    "            base_url = base_url.rstrip('/')\n",
    "        self.base_url = base_url\n",
    "\n",
    "        self.auth = HTTPBasicAuth(username.encode('utf-8'), password.encode('utf-8'))\n",
    "        self.request_timeout_seconds = request_timeout_seconds\n",
    "        self.webid_mapping = OSI_PI_WEBID_MAPPING\n",
    "        self.timezone = pytz.timezone(timezone)\n",
    "\n",
    "        # On instantiation, the current time is set as the start_timestamp\n",
    "        start_timestamp = datetime.now(self.timezone)\n",
    "        end_timestamp = self._generate_batch_start_timestamp()\n",
    "\n",
    "        self.cached_data = self._batch_retriev_data(\n",
    "            start_time = start_timestamp, \n",
    "            end_time = end_timestamp,\n",
    "            object_names = OSI_PI_PARAMETERS_REQUESTED,\n",
    "        )\n",
    "\n",
    "    def _convert_timestamps(self, timestamp: datetime) -> str:\n",
    "        \"\"\"\n",
    "        Convert a timestamp to the correct format for the OSI PI system.\n",
    "        OSI-PI syntax is * equals now, *-1h equals one hour ago, *-1d equals one day ago, etc.\n",
    "        \"\"\"\n",
    "\n",
    "        # Ensure that the timestamp is ts aware\n",
    "        if timestamp.tzinfo is None or timestamp.tzinfo.utcoffset(timestamp) is None:\n",
    "            timestamp = timestamp.replace(tzinfo=self.timezone)\n",
    "\n",
    "        # Calculate the difference in hours\n",
    "        now = datetime.now(self.timezone)\n",
    "        difference_in_hours = int((now - timestamp).total_seconds() / 3600)\n",
    "\n",
    "        return f'*-{difference_in_hours}h'\n",
    "\n",
    "    def _generate_batch_start_timestamp(self, charge_hour_start: int = CHARGE_START_HOUR) -> datetime:\n",
    "        \"\"\"\n",
    "        Generate a timestamp for the start of the current charge which is set to (yesterday, h=CHARGE_START_HOUR).\n",
    "        \"\"\"\n",
    "        now = datetime.now(self.timezone)\n",
    "        timestamp = now - timedelta(days=1)\n",
    "        timestamp = timestamp.replace(hour=charge_hour_start, minute=0, second=0, microsecond=0)\n",
    "        return timestamp\n",
    "\n",
    "    def _batch_retriev_data(self, start_time: datetime, end_time: datetime, verify_cert: bool = False, object_names: list = OSI_PI_PARAMETERS_REQUESTED) -> pd.DataFrame:\n",
    "        \"\"\"\n",
    "        Retrieve multiple data-ranges for same timespan and returns a Pandas DataFrame.\n",
    "        \"\"\"\n",
    "\n",
    "        # Create timestamps\n",
    "        start_time_converted = self._convert_timestamps(start_time)\n",
    "        end_time_converted = self._convert_timestamps(end_time)\n",
    "\n",
    "        # Generate a list of tuples for the params of the request. the WebID field will have multiple values.\n",
    "        params = [(('webid', self.webid_mapping.get(object_name, None))) for object_name in object_names]\n",
    "        params.append(('startTime', start_time_converted,))\n",
    "        params.append(('endTime', end_time_converted,))\n",
    "        \n",
    "        # Construct and validate the URL\n",
    "        url = f\"{self.base_url}/piwebapi/streamsets/recorded\"\n",
    "\n",
    "        # Fetch data from API\n",
    "        response = requests.get(url, params=params, auth=self.auth, verify=verify_cert, timeout=self.request_timeout_seconds)\n",
    "        \n",
    "        if response.status_code == 200:\n",
    "            # Extract the response into a dict and convert into pandas DataFrame, Ugly to look at but most efficient as a dict-comprehension.\n",
    "            response_dict = {item.get('Name', None): {pd.Timestamp(entry.get('Timestamp', None)): entry.get('Value', None) for entry in item.get('Items', [])} for item in response.json().get('Items', [])}\n",
    "\n",
    "            # Turn the response into a pandas DataFrame\n",
    "            df_response = pd.DataFrame(response_dict)\n",
    "            df_response.index = pd.to_datetime(df_response.index)\n",
    "            return df_response\n",
    "        else:\n",
    "            return pd.DataFrame() # Return empty DataFrame if nothing was returned\n",
    "\n",
    "    def get_data(self, start_time: datetime = None, end_time: datetime = None, verify_cert: bool = False) -> pd.DataFrame:\n",
    "        \"\"\"\n",
    "        Retrieves data from OSI PI system for a given time range.\n",
    "\n",
    "        Args:\n",
    "            start_time (datetime): Start time of the time range. If not provided, the default start time is generated.\n",
    "            end_time (datetime): End time of the time range. If not provided, the current time is used.\n",
    "            verify_cert (bool): Whether to verify the SSL certificate of the PI server.\n",
    "\n",
    "        Returns:\n",
    "            pd.DataFrame: A Pandas DataFrame containing the requested data.\n",
    "        \"\"\"\n",
    "\n",
    "        # Ensure that the timestamps are tz aware\n",
    "        if start_time is not None and (start_time.tzinfo is None or start_time.tzinfo.utcoffset(start_time) is None):\n",
    "            start_time = start_time.replace(tzinfo=self.timezone)\n",
    "        if end_time is not None and (end_time.tzinfo is None or end_time.tzinfo.utcoffset(end_time) is None):\n",
    "            end_time = end_time.replace(tzinfo=self.timezone)\n",
    "\n",
    "        # If no timestamps are provided, use the default timestamps.\n",
    "        if start_time is None:\n",
    "            start_time = self._generate_batch_start_timestamp()\n",
    "        if end_time is None:\n",
    "            end_time = datetime.now(self.timezone)\n",
    "\n",
    "        # # Only during development\n",
    "        # return self._batch_retriev_data(\n",
    "        #     start_time=start_time, \n",
    "        #     end_time = end_time,\n",
    "        #     object_names =OSI_PI_PARAMETERS_REQUESTED,\n",
    "        #     verify_cert=verify_cert,\n",
    "        # )\n",
    "\n",
    "        # Check if cache is initialized and get the max and min timestamps in the cache\n",
    "        cache_has_data = False\n",
    "        if self.cached_data is not None and not self.cached_data.empty:\n",
    "            cached_start_time = self.cached_data.index.min().to_pydatetime()\n",
    "            cached_end_time = self.cached_data.index.max().to_pydatetime()\n",
    "            cache_has_data = True\n",
    "\n",
    "        # If cache has no data, the data is loaded between start_time and end_time and updates the cache\n",
    "        if not cache_has_data:\n",
    "            self.cached_data = self._batch_retriev_data(OSI_PI_PARAMETERS_REQUESTED, start_time, end_time, verify_cert)\n",
    "\n",
    "        # If cache has data, the data is queried between start_time and cache_start_time as well as cache_end_time and end_time and cache is updated\n",
    "        elif cache_has_data:\n",
    "            if start_time < cached_start_time:\n",
    "                new_data = self._batch_retriev_data(OSI_PI_PARAMETERS_REQUESTED, start_time, cached_start_time - timedelta(seconds=1), verify_cert)\n",
    "                self.cached_data = pd.concat([new_data, self.cached_data])\n",
    "            if end_time > cached_end_time:\n",
    "                new_data = self._batch_retriev_data(OSI_PI_PARAMETERS_REQUESTED, cached_end_time + timedelta(seconds=1), end_time, verify_cert)\n",
    "                self.cached_data = pd.concat([self.cached_data, new_data])\n",
    "\n",
    "        # Return the data between start_time and end_time\n",
    "        return self.cached_data[(self.cached_data.index >= start_time) & (self.cached_data.index <= end_time)]"
   ]
  },
  {
   "cell_type": "markdown",
   "id": "04b00f40-a875-4ded-a1c1-a42efc911f4e",
   "metadata": {},
   "source": [
    "# Helper Functions"
   ]
  },
  {
   "cell_type": "code",
   "execution_count": 5,
   "id": "c57bb1ab-dc7b-4d53-8aed-80e170ec6e67",
   "metadata": {},
   "outputs": [],
   "source": [
    "def structure(d):\n",
    "    if isinstance(d, dict):\n",
    "        return {k: structure(v) for k, v in d.items()}\n",
    "    elif isinstance(d, list):\n",
    "        return [structure(item) for item in d] if d else []\n",
    "    else:\n",
    "        return type(d).__name__"
   ]
  },
  {
   "cell_type": "markdown",
   "id": "c3faa25b-98fa-42bc-8c34-2035a00c8360",
   "metadata": {},
   "source": [
    "# Connection test"
   ]
  },
  {
   "cell_type": "code",
   "execution_count": 6,
   "id": "093d8cab-7030-4a11-a1df-dfd4b00af1eb",
   "metadata": {},
   "outputs": [
    {
     "name": "stderr",
     "output_type": "stream",
     "text": [
      "C:\\Users\\MacenkaJan\\AppData\\Local\\Packages\\PythonSoftwareFoundation.Python.3.10_qbz5n2kfra8p0\\LocalCache\\local-packages\\Python310\\site-packages\\urllib3\\connectionpool.py:1095: InsecureRequestWarning: Unverified HTTPS request is being made to host 'pirest-lb.corpads.aurubis.com'. Adding certificate verification is strongly advised. See: https://urllib3.readthedocs.io/en/latest/advanced-usage.html#tls-warnings\n",
      "  warnings.warn(\n"
     ]
    }
   ],
   "source": [
    "con = OSIPIConnector(OSI_PI_BASE_URL, OSI_PI_USERNAME, OSI_PI_PASSWORD)"
   ]
  },
  {
   "cell_type": "code",
   "execution_count": 7,
   "id": "a264151a-f593-43c8-9b8f-df562ee3c201",
   "metadata": {},
   "outputs": [],
   "source": [
    "test_start_date = datetime(year=2023, month=8, day=1)\n",
    "test_end_date = datetime(year=2023, month=8, day=2)\n",
    "parameters_to_be_requested = [\n",
    "    \"ACTUAL_DRUCK_DUESENWAND_LANZE_1\",\n",
    "    \"ACTUAL_DRUCK_DUESENWAND_LANZE_2\",\n",
    "    # \"ACTUAL_DRUCK_DUESENWAND_LANZE_3\",\n",
    "    # \"ACTUAL_DRUCK_DUESENWAND_LANZE_4\",\n",
    "    # \"ACTUAL_DRUCK_DUESENWAND_LANZE_5\",\n",
    "    # \"ACTUAL_DRUCK_DUESENWAND_LANZE_6\",\n",
    "    # \"ACTUAL_DRUCK_DUESENWAND_LANZE_7\",\n",
    "    # \"ACTUAL_DRUCK_DUESENWAND_LANZE_8\",\n",
    "    # \"ACTUAL_DRUCK_DUESENWAND_LANZE_9\",\n",
    "    # \"ACTUAL_DRUCK_DUESENWAND_LANZE_10\",\n",
    "    # \"ACTUAL_TEMP_DECKE_1\",\n",
    "    # \"ACTUAL_TEMP_DECKE_2\",\n",
    "    # \"ACTUAL_TEMP_DECKE_3\",\n",
    "    # \"ACTUAL_TEMP_DECKE_4\",\n",
    "    # \"ACTUAL_TEMP_DECKE_5\",\n",
    "    # \"ACTUAL_TEMP_DECKE_6\",\n",
    "    # \"ACTUAL_O2_CELOX\",\n",
    "    # \"ACTUAL_TEMP_CELOX\",\n",
    "    # \"ACTUAL_S02_KAMIN_100\",\n",
    "    # \"ACTUAL_SO2_KESSEL_7\",\n",
    "    # \"ACTUAL_TEMP_LECKAGE_RLA\",\n",
    "    # \"ACTUAL_TEMP_LECKAGE_RLB\",\n",
    "]"
   ]
  },
  {
   "cell_type": "raw",
   "id": "09c4c526-4cbb-4510-931a-ac618c22fbaa",
   "metadata": {},
   "source": [
    "try:\n",
    "    data = con._batch_retriev_data(object_names=parameters_to_be_requested, start_time=test_start_date, end_time=test_end_date)\n",
    "    #pprint(structure(data))\n",
    "    pprint(data)\n",
    "except requests.exceptions.RequestException as e:\n",
    "    print(f'Error: {e}')"
   ]
  },
  {
   "cell_type": "code",
   "execution_count": 8,
   "id": "dd0cc81f-7b08-407b-b7ae-4b6bfab77c71",
   "metadata": {},
   "outputs": [
    {
     "name": "stderr",
     "output_type": "stream",
     "text": [
      "C:\\Users\\MacenkaJan\\AppData\\Local\\Temp\\ipykernel_27604\\221006308.py:122: UserWarning: Discarding nonzero nanoseconds in conversion.\n",
      "  cached_start_time = self.cached_data.index.min().to_pydatetime()\n"
     ]
    },
    {
     "ename": "AttributeError",
     "evalue": "'list' object has no attribute 'tzinfo'",
     "output_type": "error",
     "traceback": [
      "\u001b[1;31m---------------------------------------------------------------------------\u001b[0m",
      "\u001b[1;31mAttributeError\u001b[0m                            Traceback (most recent call last)",
      "Cell \u001b[1;32mIn[8], line 2\u001b[0m\n\u001b[0;32m      1\u001b[0m \u001b[38;5;28;01mtry\u001b[39;00m:\n\u001b[1;32m----> 2\u001b[0m     data \u001b[38;5;241m=\u001b[39m \u001b[43mcon\u001b[49m\u001b[38;5;241;43m.\u001b[39;49m\u001b[43mget_data\u001b[49m\u001b[43m(\u001b[49m\u001b[43mtest_start_date\u001b[49m\u001b[43m,\u001b[49m\u001b[43m \u001b[49m\u001b[43mtest_end_date\u001b[49m\u001b[43m)\u001b[49m\n\u001b[0;32m      3\u001b[0m     \u001b[38;5;28mprint\u001b[39m(data)\n\u001b[0;32m      4\u001b[0m \u001b[38;5;28;01mexcept\u001b[39;00m requests\u001b[38;5;241m.\u001b[39mexceptions\u001b[38;5;241m.\u001b[39mRequestException \u001b[38;5;28;01mas\u001b[39;00m e:\n",
      "Cell \u001b[1;32mIn[4], line 133\u001b[0m, in \u001b[0;36mOSIPIConnector.get_data\u001b[1;34m(self, start_time, end_time, verify_cert)\u001b[0m\n\u001b[0;32m    131\u001b[0m \u001b[38;5;28;01melif\u001b[39;00m cache_has_data:\n\u001b[0;32m    132\u001b[0m     \u001b[38;5;28;01mif\u001b[39;00m start_time \u001b[38;5;241m<\u001b[39m cached_start_time:\n\u001b[1;32m--> 133\u001b[0m         new_data \u001b[38;5;241m=\u001b[39m \u001b[38;5;28;43mself\u001b[39;49m\u001b[38;5;241;43m.\u001b[39;49m\u001b[43m_batch_retriev_data\u001b[49m\u001b[43m(\u001b[49m\u001b[43mOSI_PI_PARAMETERS_REQUESTED\u001b[49m\u001b[43m,\u001b[49m\u001b[43m \u001b[49m\u001b[43mstart_time\u001b[49m\u001b[43m,\u001b[49m\u001b[43m \u001b[49m\u001b[43mcached_start_time\u001b[49m\u001b[43m \u001b[49m\u001b[38;5;241;43m-\u001b[39;49m\u001b[43m \u001b[49m\u001b[43mtimedelta\u001b[49m\u001b[43m(\u001b[49m\u001b[43mseconds\u001b[49m\u001b[38;5;241;43m=\u001b[39;49m\u001b[38;5;241;43m1\u001b[39;49m\u001b[43m)\u001b[49m\u001b[43m,\u001b[49m\u001b[43m \u001b[49m\u001b[43mverify_cert\u001b[49m\u001b[43m)\u001b[49m\n\u001b[0;32m    134\u001b[0m         \u001b[38;5;28mself\u001b[39m\u001b[38;5;241m.\u001b[39mcached_data \u001b[38;5;241m=\u001b[39m pd\u001b[38;5;241m.\u001b[39mconcat([new_data, \u001b[38;5;28mself\u001b[39m\u001b[38;5;241m.\u001b[39mcached_data])\n\u001b[0;32m    135\u001b[0m     \u001b[38;5;28;01mif\u001b[39;00m end_time \u001b[38;5;241m>\u001b[39m cached_end_time:\n",
      "Cell \u001b[1;32mIn[4], line 61\u001b[0m, in \u001b[0;36mOSIPIConnector._batch_retriev_data\u001b[1;34m(self, start_time, end_time, verify_cert, object_names)\u001b[0m\n\u001b[0;32m     56\u001b[0m \u001b[38;5;250m\u001b[39m\u001b[38;5;124;03m\"\"\"\u001b[39;00m\n\u001b[0;32m     57\u001b[0m \u001b[38;5;124;03mRetrieve multiple data-ranges for same timespan and returns a Pandas DataFrame.\u001b[39;00m\n\u001b[0;32m     58\u001b[0m \u001b[38;5;124;03m\"\"\"\u001b[39;00m\n\u001b[0;32m     60\u001b[0m \u001b[38;5;66;03m# Create timestamps\u001b[39;00m\n\u001b[1;32m---> 61\u001b[0m start_time_converted \u001b[38;5;241m=\u001b[39m \u001b[38;5;28;43mself\u001b[39;49m\u001b[38;5;241;43m.\u001b[39;49m\u001b[43m_convert_timestamps\u001b[49m\u001b[43m(\u001b[49m\u001b[43mstart_time\u001b[49m\u001b[43m)\u001b[49m\n\u001b[0;32m     62\u001b[0m end_time_converted \u001b[38;5;241m=\u001b[39m \u001b[38;5;28mself\u001b[39m\u001b[38;5;241m.\u001b[39m_convert_timestamps(end_time)\n\u001b[0;32m     64\u001b[0m \u001b[38;5;66;03m# Generate a list of tuples for the params of the request. the WebID field will have multiple values.\u001b[39;00m\n",
      "Cell \u001b[1;32mIn[4], line 37\u001b[0m, in \u001b[0;36mOSIPIConnector._convert_timestamps\u001b[1;34m(self, timestamp)\u001b[0m\n\u001b[0;32m     31\u001b[0m \u001b[38;5;250m\u001b[39m\u001b[38;5;124;03m\"\"\"\u001b[39;00m\n\u001b[0;32m     32\u001b[0m \u001b[38;5;124;03mConvert a timestamp to the correct format for the OSI PI system.\u001b[39;00m\n\u001b[0;32m     33\u001b[0m \u001b[38;5;124;03mOSI-PI syntax is * equals now, *-1h equals one hour ago, *-1d equals one day ago, etc.\u001b[39;00m\n\u001b[0;32m     34\u001b[0m \u001b[38;5;124;03m\"\"\"\u001b[39;00m\n\u001b[0;32m     36\u001b[0m \u001b[38;5;66;03m# Ensure that the timestamp is ts aware\u001b[39;00m\n\u001b[1;32m---> 37\u001b[0m \u001b[38;5;28;01mif\u001b[39;00m \u001b[43mtimestamp\u001b[49m\u001b[38;5;241;43m.\u001b[39;49m\u001b[43mtzinfo\u001b[49m \u001b[38;5;129;01mis\u001b[39;00m \u001b[38;5;28;01mNone\u001b[39;00m \u001b[38;5;129;01mor\u001b[39;00m timestamp\u001b[38;5;241m.\u001b[39mtzinfo\u001b[38;5;241m.\u001b[39mutcoffset(timestamp) \u001b[38;5;129;01mis\u001b[39;00m \u001b[38;5;28;01mNone\u001b[39;00m:\n\u001b[0;32m     38\u001b[0m     timestamp \u001b[38;5;241m=\u001b[39m timestamp\u001b[38;5;241m.\u001b[39mreplace(tzinfo\u001b[38;5;241m=\u001b[39m\u001b[38;5;28mself\u001b[39m\u001b[38;5;241m.\u001b[39mtimezone)\n\u001b[0;32m     40\u001b[0m \u001b[38;5;66;03m# Calculate the difference in hours\u001b[39;00m\n",
      "\u001b[1;31mAttributeError\u001b[0m: 'list' object has no attribute 'tzinfo'"
     ]
    }
   ],
   "source": [
    "try:\n",
    "    data = con.get_data(test_start_date, test_end_date)\n",
    "    print(data)\n",
    "except requests.exceptions.RequestException as e:\n",
    "    print(f'Error: {e}')"
   ]
  },
  {
   "cell_type": "code",
   "execution_count": null,
   "id": "4e014126-8fee-412c-ad88-441b024a0057",
   "metadata": {},
   "outputs": [],
   "source": [
    "df.plot()"
   ]
  }
 ],
 "metadata": {
  "kernelspec": {
   "display_name": "Python 3 (ipykernel)",
   "language": "python",
   "name": "python3"
  },
  "language_info": {
   "codemirror_mode": {
    "name": "ipython",
    "version": 3
   },
   "file_extension": ".py",
   "mimetype": "text/x-python",
   "name": "python",
   "nbconvert_exporter": "python",
   "pygments_lexer": "ipython3",
   "version": "3.10.11"
  }
 },
 "nbformat": 4,
 "nbformat_minor": 5
}
